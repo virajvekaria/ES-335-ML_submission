{
  "nbformat": 4,
  "nbformat_minor": 0,
  "metadata": {
    "colab": {
      "provenance": []
    },
    "kernelspec": {
      "name": "python3",
      "display_name": "Python 3"
    },
    "language_info": {
      "name": "python"
    }
  },
  "cells": [
    {
      "cell_type": "markdown",
      "source": [
        "## Importing necessary modules"
      ],
      "metadata": {
        "id": "gKwy1hoEwl7l"
      }
    },
    {
      "cell_type": "code",
      "source": [
        "import numpy as np\n",
        "from timeit import default_timer as timer\n",
        "import jax\n",
        "import jax.numpy as jnp\n",
        "import sympy as sym\n",
        "import pprint\n",
        "import matplotlib.pyplot as plt\n",
        "import  pandas as pd"
      ],
      "metadata": {
        "id": "OH8oRqwUwAsj"
      },
      "execution_count": 4,
      "outputs": []
    },
    {
      "cell_type": "markdown",
      "source": [
        "## Problem 1\n",
        "First of all in a matrix multiplication between a (n, k) and (k, m) matrix, the resulting matrix would be of the shape (n, m). That means there would be a total of n*m elements. Therefore, if we can find the number of additions and multiplications required for any one element, we can calculate the total number of multiplications and additions.\n",
        "\n",
        "$\n",
        "\\begin{bmatrix}\n",
        "     a_{11} & a_{12} & \\cdots & a_{1n}\\\\\n",
        "     a_{21} & a_{22} & \\cdots & a_{2n}\\\\\n",
        "     \\vdots & \\vdots & \\ddots & \\vdots\\\\\n",
        "     a_{m1} & a_{m2} & \\cdots & a_{mn}\n",
        " \\end{bmatrix}\n",
        " \\times\n",
        " \\begin{bmatrix}\n",
        "     b_{11} & b_{12} & \\cdots & b_{1p}\\\\\n",
        "     b_{21} & b_{22} & \\cdots & b_{2p}\\\\\n",
        "     \\vdots & \\vdots & \\ddots & \\vdots\\\\\n",
        "     b_{n1} & b_{n2} & \\cdots & b_{np}\n",
        " \\end{bmatrix}\n",
        "  =\n",
        " \\begin{bmatrix}\n",
        "     c_{11} & c_{12} & \\cdots & c_{1p}\\\\\n",
        "     c_{21} & c_{22} & \\cdots & c_{2p}\\\\\n",
        "     \\vdots & \\vdots & \\ddots & \\vdots\\\\\n",
        "     c_{m1} & c_{m2} & \\cdots & c_{mp}\n",
        " \\end{bmatrix}\n",
        "$\n",
        "\n",
        "$c_{ij} = a_{i1} b_{1j} + a_{i2} b_{2j} + \\cdots + a_{in} b_{nj} = \\sum_{k=1}^n a_{ik}b_{kj} $\n",
        "\n",
        "This shows that for every element there would be and k multiplications.\n",
        "\n",
        "Therefore, we would have a total of $n*(k-1)*m$ additions and $n*k*m$ multiplications."
      ],
      "metadata": {
        "id": "LaJTgG-vr9mm"
      }
    },
    {
      "cell_type": "code",
      "execution_count": null,
      "metadata": {
        "colab": {
          "base_uri": "https://localhost:8080/"
        },
        "id": "BtVcxPHomptW",
        "outputId": "7837cc01-e887-45cb-c1b4-2c88b464e13b"
      },
      "outputs": [
        {
          "output_type": "stream",
          "name": "stdout",
          "text": [
            "[[0.69492937 0.34398769 1.14724886]\n",
            " [0.46641051 0.64635877 1.02065731]\n",
            " [0.11951757 0.13835069 0.24508577]]\n",
            "Total additions is 9 which is 3*1*3 (n*(k-1)*m)\n",
            "Total multiplications is 18 which is 3*2*3 (n*k*m)\n"
          ]
        }
      ],
      "source": [
        "n = 3\n",
        "k = 2\n",
        "m = 3\n",
        "\n",
        "np.random.seed(42)\n",
        "mat_1 = np.random.rand(n, k)\n",
        "mat_2 = np.random.rand(k, m)\n",
        "result = np.zeros((n, m))\n",
        "total_multiplications, total_additions = 0, 0\n",
        "\n",
        "for i in range(n):\n",
        "  for j in range(m):\n",
        "    element = 0\n",
        "    for l in range(k):\n",
        "      if(element == 0):\n",
        "        total_additions -= 1\n",
        "      element += mat_1[i][l]*mat_2[l][j]\n",
        "      total_multiplications += 1\n",
        "      total_additions += 1\n",
        "\n",
        "    result[i][j] = element\n",
        "\n",
        "print(result)\n",
        "print(f\"Total additions is {total_additions} which is {n}*{k-1}*{m} (n*(k-1)*m)\")\n",
        "print(f\"Total multiplications is {total_multiplications} which is {n}*{k}*{m} (n*k*m)\")"
      ]
    },
    {
      "cell_type": "markdown",
      "source": [
        "## Problem 2\n",
        "\n",
        "NumPy operations are faster than regular loops using lists because of the following reasons:  \n",
        "\n",
        "- An array is a collection of homogeneous data-types that are stored in contiguous memory locations. On the other hand, a list in Python is a collection of heterogeneous data types stored in non-contiguous memory locations.\n",
        "- The NumPy package breaks down a task into multiple fragments and then processes all the fragments parallelly.\n",
        "- The NumPy package integrates C, C++, and Fortran codes in Python. These programming languages have very little execution time compared to Python. Many times Python is used to create wrapper functions for libraries in these languages to make it more simple to use.\n",
        "\n",
        "*Cited from [GeeksForGeeks](https://www.geeksforgeeks.org/why-numpy-is-faster-in-python/)*"
      ],
      "metadata": {
        "id": "hSafqUT81RLZ"
      }
    },
    {
      "cell_type": "code",
      "source": [
        "n = 6\n",
        "k = 3\n",
        "m = 6\n",
        "num_intervals = 1000\n",
        "total_manual_time = 0\n",
        "total_numpy_time = 0\n",
        "\n",
        "np.random.seed(42)\n",
        "\n",
        "for _ in range(num_intervals):\n",
        "    mat_1 = np.random.rand(n, k)\n",
        "    mat_2 = np.random.rand(k, m)\n",
        "\n",
        "    start_time_manual = timer()\n",
        "    result_manual = np.zeros((n, m))\n",
        "\n",
        "    for i in range(n):\n",
        "        for j in range(m):\n",
        "            element = 0\n",
        "            for l in range(k):\n",
        "                element += mat_1[i][l] * mat_2[l][j]\n",
        "            result_manual[i][j] = element\n",
        "\n",
        "    end_time_manual = timer()\n",
        "    total_manual_time += end_time_manual - start_time_manual\n",
        "\n",
        "    start_time_numpy = timer()\n",
        "    result_numpy = np.matmul(mat_1, mat_2)\n",
        "    end_time_numpy = timer()\n",
        "    total_numpy_time += end_time_numpy - start_time_numpy\n",
        "\n",
        "# Calculate average time\n",
        "average_manual_time = total_manual_time / num_intervals\n",
        "average_numpy_time = total_numpy_time / num_intervals\n",
        "\n",
        "print(f\"Manual result:\\n{result_manual}\\nIt took an average of {average_manual_time:.5f} seconds over {num_intervals} intervals.\")\n",
        "print(f\"Numpy result:\\n{result_numpy}\\nIt took an average of {average_numpy_time:.5f} seconds over {num_intervals} intervals.\")\n"
      ],
      "metadata": {
        "colab": {
          "base_uri": "https://localhost:8080/"
        },
        "id": "3p2IMYwWwvKt",
        "outputId": "3f1e6426-281d-4d22-d821-7e5e362367b4"
      },
      "execution_count": 68,
      "outputs": [
        {
          "output_type": "stream",
          "name": "stdout",
          "text": [
            "Manual result:\n",
            "[[0.84283758 0.46205503 0.60170651 0.99422525 0.68589317 1.22319894]\n",
            " [1.43822406 0.91306628 1.55351478 1.92241153 1.69588015 1.95193211]\n",
            " [0.59845675 0.50242242 0.90981255 1.15621815 1.06570023 0.7756766 ]\n",
            " [0.89264582 0.48250827 0.84670546 0.91472171 0.84417529 1.21249489]\n",
            " [0.37669041 0.25861178 0.10210857 0.74309765 0.2881779  0.63691734]\n",
            " [1.03755574 0.62495558 1.11538198 1.25322715 1.1655913  1.39272311]]\n",
            "It took an average of 0.00020 seconds over 1000 intervals.\n",
            "Numpy result:\n",
            "[[0.84283758 0.46205503 0.60170651 0.99422525 0.68589317 1.22319894]\n",
            " [1.43822406 0.91306628 1.55351478 1.92241153 1.69588015 1.95193211]\n",
            " [0.59845675 0.50242242 0.90981255 1.15621815 1.06570023 0.7756766 ]\n",
            " [0.89264582 0.48250827 0.84670546 0.91472171 0.84417529 1.21249489]\n",
            " [0.37669041 0.25861178 0.10210857 0.74309765 0.2881779  0.63691734]\n",
            " [1.03755574 0.62495558 1.11538198 1.25322715 1.1655913  1.39272311]]\n",
            "It took an average of 0.00003 seconds over 1000 intervals.\n"
          ]
        }
      ]
    },
    {
      "cell_type": "markdown",
      "source": [
        "## Problem 3\n"
      ],
      "metadata": {
        "id": "5YLozB951Vue"
      }
    },
    {
      "cell_type": "code",
      "source": [
        "size = 100\n",
        "np.random.seed(42)\n",
        "arr = np.random.randint(1, size, size = size)\n",
        "arr"
      ],
      "metadata": {
        "colab": {
          "base_uri": "https://localhost:8080/"
        },
        "id": "uZEWoOvpy2sy",
        "outputId": "404057f1-3cae-4af1-c274-a85a56f9eb4b"
      },
      "execution_count": 35,
      "outputs": [
        {
          "output_type": "execute_result",
          "data": {
            "text/plain": [
              "array([52, 93, 15, 72, 61, 21, 83, 87, 75, 75, 88, 24,  3, 22, 53,  2, 88,\n",
              "       30, 38,  2, 64, 60, 21, 33, 76, 58, 22, 89, 49, 91, 59, 42, 92, 60,\n",
              "       80, 15, 62, 62, 47, 62, 51, 55, 64,  3, 51,  7, 21, 73, 39, 18,  4,\n",
              "       89, 60, 14,  9, 90, 53,  2, 84, 92, 60, 71, 44,  8, 47, 35, 78, 81,\n",
              "       36, 50,  4,  2,  6, 54,  4, 54, 93, 63, 18, 90, 44, 34, 74, 62, 14,\n",
              "       95, 48, 15, 72, 78, 87, 62, 40, 85, 80, 82, 53, 24, 26, 89])"
            ]
          },
          "metadata": {},
          "execution_count": 35
        }
      ]
    },
    {
      "cell_type": "code",
      "source": [
        "# Method 1\n",
        "total_time = 0\n",
        "num_intervals = 1000\n",
        "\n",
        "\n",
        "for _ in range(num_intervals):\n",
        "    # Assuming arr is defined and contains the data you want to process\n",
        "\n",
        "    start_time = timer()\n",
        "    n = len(arr)\n",
        "\n",
        "    for i in range(n // 2 + 1):\n",
        "        max_val = arr[0]\n",
        "        max_ind = 0\n",
        "        for j in range(n - i):\n",
        "            if max_val < arr[j]:\n",
        "                max_val = arr[j]\n",
        "                max_ind = j\n",
        "\n",
        "        arr[max_ind], arr[n - i - 1] = arr[n - i - 1], arr[max_ind]\n",
        "\n",
        "    end_time = timer()\n",
        "    total_time += end_time - start_time\n",
        "\n",
        "# Calculate average time\n",
        "average_time = total_time / num_intervals\n",
        "\n",
        "if n % 2 != 0:\n",
        "    median = arr[n // 2]\n",
        "else:\n",
        "    median = (arr[n // 2] + arr[n // 2 - 1]) / 2\n",
        "\n",
        "print(f\"Average time over {num_intervals} intervals: {average_time:.5f} seconds\")"
      ],
      "metadata": {
        "colab": {
          "base_uri": "https://localhost:8080/"
        },
        "id": "v3VpvmNS2AKe",
        "outputId": "6077a841-2980-4b75-f40d-d6e5d7c14a15"
      },
      "execution_count": 67,
      "outputs": [
        {
          "output_type": "stream",
          "name": "stdout",
          "text": [
            "Average time over 1000 intervals: 0.00425 seconds\n"
          ]
        }
      ]
    },
    {
      "cell_type": "markdown",
      "source": [
        "The time complexity of this method is $O(n^2)$.\n",
        "\n",
        "A better method could be sorting it first using an efficient algorithm (maybe of the order $O(nlog(n))$ like merge sort) and then find the middle elements and that would give us the median.\n",
        "\n",
        "(Merge sort code taken from [GeeksForGeeks](https://www.geeksforgeeks.org/python-program-for-merge-sort/))"
      ],
      "metadata": {
        "id": "0wF2XAjksOuR"
      }
    },
    {
      "cell_type": "code",
      "source": [
        "# Method 2\n",
        "start_time = timer()\n",
        "\n",
        "def merge(arr, left, mid, right):\n",
        "    n1 = mid - left + 1\n",
        "    n2 = right - mid\n",
        "\n",
        "    left_partition = [0] * (n1)\n",
        "    right_partition = [0] * (n2)\n",
        "\n",
        "    for i in range(0, n1):\n",
        "        left_partition[i] = arr[left + i]\n",
        "\n",
        "    for j in range(0, n2):\n",
        "        right_partition[j] = arr[mid + 1 + j]\n",
        "\n",
        "    i = 0\n",
        "    j = 0\n",
        "    k = left\n",
        "\n",
        "    while i < n1 and j < n2:\n",
        "        if left_partition[i] <= right_partition[j]:\n",
        "            arr[k] = left_partition[i]\n",
        "            i += 1\n",
        "        else:\n",
        "            arr[k] = right_partition[j]\n",
        "            j += 1\n",
        "        k += 1\n",
        "\n",
        "    while i < n1:\n",
        "        arr[k] = left_partition[i]\n",
        "        i += 1\n",
        "        k += 1\n",
        "\n",
        "    while j < n2:\n",
        "        arr[k] = right_partition[j]\n",
        "        j += 1\n",
        "        k += 1\n",
        "\n",
        "def mergeSort(arr, left, right):\n",
        "    if left < right:\n",
        "        mid = left + (right - left) // 2\n",
        "        mergeSort(arr, left, mid)\n",
        "        mergeSort(arr, mid + 1, right)\n",
        "        merge(arr, left, mid, right)\n",
        "\n",
        "for _ in range(num_intervals):\n",
        "    start_time = timer()\n",
        "\n",
        "    mergeSort(arr, 0, len(arr) - 1)\n",
        "\n",
        "    if len(arr) % 2 != 0:\n",
        "        median = arr[len(arr) // 2]\n",
        "    else:\n",
        "        median = (arr[len(arr) // 2 - 1] + arr[len(arr) // 2]) / 2\n",
        "\n",
        "    end_time = timer()\n",
        "    total_time += end_time - start_time\n",
        "\n",
        "# Calculate average time\n",
        "average_time = total_time / num_intervals\n",
        "\n",
        "print(f\"Average time over {num_intervals} intervals: {average_time:.5f} seconds\")"
      ],
      "metadata": {
        "colab": {
          "base_uri": "https://localhost:8080/"
        },
        "id": "Pklxg71964vY",
        "outputId": "14fd3542-e7d3-4cfd-a449-25fd4ae2af38"
      },
      "execution_count": 42,
      "outputs": [
        {
          "output_type": "stream",
          "name": "stdout",
          "text": [
            "Average time over 1000 intervals: 0.00212 seconds\n"
          ]
        }
      ]
    },
    {
      "cell_type": "code",
      "source": [
        "for _ in range(num_intervals):\n",
        "    start_time = timer()\n",
        "    median = np.median(arr)\n",
        "    end_time = timer()\n",
        "    total_time += end_time - start_time\n",
        "\n",
        "# Calculate average time\n",
        "average_time = total_time / num_intervals\n",
        "\n",
        "print(f\"Average time over {num_intervals} intervals: {average_time:.5f} seconds\")"
      ],
      "metadata": {
        "colab": {
          "base_uri": "https://localhost:8080/"
        },
        "id": "evkmLbBB62SV",
        "outputId": "481f4763-9bb4-418a-b2c5-55a77bbc7c74"
      },
      "execution_count": 65,
      "outputs": [
        {
          "output_type": "stream",
          "name": "stdout",
          "text": [
            "Average time over 1000 intervals: 0.00129 seconds\n"
          ]
        }
      ]
    },
    {
      "cell_type": "markdown",
      "source": [
        "## Problem 4\n",
        "\n",
        "Assuming that the gradient means the partial derivative of the function wrt the given independent variable:\n",
        "\n",
        "$\\frac{\\partial (x^2y + y^3sin(x))}{\\partial x} = 2xy + y^3cos(x)$\n",
        "\n",
        "$\\frac{\\partial (x^2y + y^3sin(x))}{\\partial y} = x^2 + 3y^2sin(x)$\n"
      ],
      "metadata": {
        "id": "GC4f8wveE-K8"
      }
    },
    {
      "cell_type": "markdown",
      "source": [
        "## Problem 5"
      ],
      "metadata": {
        "id": "am61agWxJZYY"
      }
    },
    {
      "cell_type": "code",
      "source": [
        "def f(x, y):\n",
        "  return x**2*y + y**3*jnp.sin(x)\n",
        "\n",
        "dfdx = jax.grad(f, argnums = 0)\n",
        "dfdy = jax.grad(f, argnums = 1)"
      ],
      "metadata": {
        "id": "ExCrXPYqE9b6"
      },
      "execution_count": null,
      "outputs": []
    },
    {
      "cell_type": "code",
      "source": [
        "def partial_x(x, y):\n",
        "  return 2*x*y + np.cos(x)*y**3\n",
        "\n",
        "def partial_y(x, y):\n",
        "  return x**2 + 3*y**2*np.sin(x)\n",
        "\n",
        "test_datapoints = np.array([[0.0, 0.0],\n",
        "                            [1.0, 0.0],\n",
        "                            [0.0, 1.0],\n",
        "                            [1.0, 1.0],\n",
        "                            [5.0, 6.0]])\n",
        "\n",
        "for i in test_datapoints:\n",
        "  print(f\"Datapoint: {i}\\nCorresponding partial x derivative (jax): {dfdx(*i):.5f}\\nCorresponding partial x derivative (analytical): {partial_x(*i):.5f}\")\n",
        "  print(f\"Corresponding partial y derivative (jax): {dfdy(*i):.5f}\\nCorresponding partial y derivative (analytical): {partial_y(*i):.5f}\")\n",
        "  print(\"---------------------------------------------------------\")"
      ],
      "metadata": {
        "colab": {
          "base_uri": "https://localhost:8080/"
        },
        "id": "pFnw9kkz4y28",
        "outputId": "1f2147ba-cfc9-46d7-cffd-2a884783191e"
      },
      "execution_count": null,
      "outputs": [
        {
          "output_type": "stream",
          "name": "stdout",
          "text": [
            "Datapoint: [0. 0.]\n",
            "Corresponding partial x derivative (jax): 0.00000\n",
            "Corresponding partial x derivative (analytical): 0.00000\n",
            "Corresponding partial y derivative (jax): 0.00000\n",
            "Corresponding partial y derivative (analytical): 0.00000\n",
            "---------------------------------------------------------\n",
            "Datapoint: [1. 0.]\n",
            "Corresponding partial x derivative (jax): 0.00000\n",
            "Corresponding partial x derivative (analytical): 0.00000\n",
            "Corresponding partial y derivative (jax): 1.00000\n",
            "Corresponding partial y derivative (analytical): 1.00000\n",
            "---------------------------------------------------------\n",
            "Datapoint: [0. 1.]\n",
            "Corresponding partial x derivative (jax): 1.00000\n",
            "Corresponding partial x derivative (analytical): 1.00000\n",
            "Corresponding partial y derivative (jax): 0.00000\n",
            "Corresponding partial y derivative (analytical): 0.00000\n",
            "---------------------------------------------------------\n",
            "Datapoint: [1. 1.]\n",
            "Corresponding partial x derivative (jax): 2.54030\n",
            "Corresponding partial x derivative (analytical): 2.54030\n",
            "Corresponding partial y derivative (jax): 3.52441\n",
            "Corresponding partial y derivative (analytical): 3.52441\n",
            "---------------------------------------------------------\n",
            "Datapoint: [5. 6.]\n",
            "Corresponding partial x derivative (jax): 121.27103\n",
            "Corresponding partial x derivative (analytical): 121.27103\n",
            "Corresponding partial y derivative (jax): -78.56383\n",
            "Corresponding partial y derivative (analytical): -78.56382\n",
            "---------------------------------------------------------\n"
          ]
        }
      ]
    },
    {
      "cell_type": "markdown",
      "source": [
        "## Problem 6\n"
      ],
      "metadata": {
        "id": "UcAtRYBuJ9sB"
      }
    },
    {
      "cell_type": "code",
      "source": [
        "x, y = sym.symbols('x y')\n",
        "f = x**2*y+ y**3*sym.sin(x)\n",
        "\n",
        "print(f\"Differential wrt x: {f.diff(x)}\")\n",
        "print(f\"Differential wrt y: {f.diff(y)}\")"
      ],
      "metadata": {
        "colab": {
          "base_uri": "https://localhost:8080/"
        },
        "id": "sZ3Rc2PcKNnO",
        "outputId": "cf454470-1c39-4705-f897-b828fca3d746"
      },
      "execution_count": null,
      "outputs": [
        {
          "output_type": "stream",
          "name": "stdout",
          "text": [
            "Differential wrt x: 2*x*y + y**3*cos(x)\n",
            "Differential wrt y: x**2 + 3*y**2*sin(x)\n"
          ]
        }
      ]
    },
    {
      "cell_type": "markdown",
      "source": [
        "## Problem 7"
      ],
      "metadata": {
        "id": "cYi2KTSFKB7R"
      }
    },
    {
      "cell_type": "code",
      "source": [
        "student_records = {\n",
        "    2022: {\n",
        "        'Computer Science': {\n",
        "            1: {\n",
        "                'Name': 'Sujal Patel',\n",
        "                'Marks': {\n",
        "                    'Maths': 90,\n",
        "                    'English': 85,\n",
        "                    'Science': 78\n",
        "                }\n",
        "            },\n",
        "            2: {\n",
        "                'Name': 'Pratham Sharda',\n",
        "                'Marks': {\n",
        "                    'Maths': 85,\n",
        "                    'English': 92,\n",
        "                    'Science': 88\n",
        "                }\n",
        "            },\n",
        "            3: {\n",
        "                'Name': 'Hardik Pandya',\n",
        "                'Marks': {\n",
        "                    'Maths': 78,\n",
        "                    'English': 80,\n",
        "                    'Science': 75\n",
        "                }\n",
        "            }\n",
        "        },\n",
        "        'Electrical Engineering': {\n",
        "            4: {\n",
        "                'Name': 'Siddharth Doshi',\n",
        "                'Marks': {\n",
        "                    'Maths': 92,\n",
        "                    'English': 89,\n",
        "                    'Science': 94\n",
        "                }\n",
        "            },\n",
        "            5: {\n",
        "                'Name': 'Mumuksh Jain',\n",
        "                'Marks': {\n",
        "                    'Maths': 87,\n",
        "                    'English': 78,\n",
        "                    'Science': 85\n",
        "                }\n",
        "            },\n",
        "            6: {\n",
        "                'Name': 'Shreyans Jain',\n",
        "                'Marks': {\n",
        "                    'Maths': 80,\n",
        "                    'English': 82,\n",
        "                    'Science': 79\n",
        "                }\n",
        "            }\n",
        "        },\n",
        "        'Mechanical Engineering': {\n",
        "            7: {\n",
        "                'Name': 'Viraj Vekaria',\n",
        "                'Marks': {\n",
        "                    'Maths': 85,\n",
        "                    'English': 88,\n",
        "                    'Science': 90\n",
        "                }\n",
        "            },\n",
        "            8: {\n",
        "                'Name': 'Hardik Jain',\n",
        "                'Marks': {\n",
        "                    'Maths': 94,\n",
        "                    'English': 91,\n",
        "                    'Science': 85\n",
        "                }\n",
        "            },\n",
        "            9: {\n",
        "                'Name': 'Abhijit Venkat',\n",
        "                'Marks': {\n",
        "                    'Maths': 78,\n",
        "                    'English': 76,\n",
        "                    'Science': 80\n",
        "                }\n",
        "            }\n",
        "        }\n",
        "    },\n",
        "    2023: {\n",
        "        'Computer Science': {\n",
        "            10: {\n",
        "                'Name': 'Harsh Nair',\n",
        "                'Marks': {\n",
        "                    'Maths': 90,\n",
        "                    'English': 85,\n",
        "                    'Science': 88\n",
        "                }\n",
        "            },\n",
        "            11: {\n",
        "                'Name': 'Manas Punekar',\n",
        "                'Marks': {\n",
        "                    'Maths': 85,\n",
        "                    'English': 92,\n",
        "                    'Science': 78\n",
        "                }\n",
        "            },\n",
        "            12: {\n",
        "                'Name': 'Dimple Mehta',\n",
        "                'Marks': {\n",
        "                    'Maths': 78,\n",
        "                    'English': 80,\n",
        "                    'Science': 75\n",
        "                }\n",
        "            }\n",
        "        },\n",
        "        'Electrical Engineering': {\n",
        "            13: {\n",
        "                'Name': 'Diya Desai',\n",
        "                'Marks': {\n",
        "                    'Maths': 92,\n",
        "                    'English': 89,\n",
        "                    'Science': 94\n",
        "                }\n",
        "            },\n",
        "            14: {\n",
        "                'Name': 'Nishi Shah',\n",
        "                'Marks': {\n",
        "                    'Maths': 87,\n",
        "                    'English': 78,\n",
        "                    'Science': 85\n",
        "                }\n",
        "            },\n",
        "            15: {\n",
        "                'Name': 'Dhairya Joshi',\n",
        "                'Marks': {\n",
        "                    'Maths': 80,\n",
        "                    'English': 82,\n",
        "                    'Science': 79\n",
        "                }\n",
        "            }\n",
        "        },\n",
        "        'Mechanical Engineering': {\n",
        "            16: {\n",
        "                'Name': 'Rohan Kapoor',\n",
        "                'Marks': {\n",
        "                    'Maths': 85,\n",
        "                    'English': 88,\n",
        "                    'Science': 90\n",
        "                }\n",
        "            },\n",
        "            17: {\n",
        "                'Name': 'Jiya Verma',\n",
        "                'Marks': {\n",
        "                    'Maths': 94,\n",
        "                    'English': 91,\n",
        "                    'Science': 85\n",
        "                }\n",
        "            },\n",
        "            18: {\n",
        "                'Name': 'Vikas Sharma',\n",
        "                'Marks': {\n",
        "                    'Maths': 78,\n",
        "                    'English': 76,\n",
        "                    'Science': 80\n",
        "                }\n",
        "            }\n",
        "        }\n",
        "    },\n",
        "    2024: {\n",
        "        'Computer Science': {\n",
        "            19: {\n",
        "                'Name': 'Neha Patel',\n",
        "                'Marks': {\n",
        "                    'Maths': 90,\n",
        "                    'English': 85,\n",
        "                    'Science': 88\n",
        "                }\n",
        "            },\n",
        "            20: {\n",
        "                'Name': 'Rahul Sharma',\n",
        "                'Marks': {\n",
        "                    'Maths': 85,\n",
        "                    'English': 92,\n",
        "                    'Science': 78\n",
        "                }\n",
        "            },\n",
        "            21: {\n",
        "                'Name': 'Aishwarya Desai',\n",
        "                'Marks': {\n",
        "                    'Maths': 78,\n",
        "                    'English': 80,\n",
        "                    'Science': 75\n",
        "                }\n",
        "            }\n",
        "        },\n",
        "        'Electrical Engineering': {\n",
        "            22: {\n",
        "                'Name': 'Arjun Shah',\n",
        "                'Marks': {\n",
        "                    'Maths': 92,\n",
        "                    'English': 89,\n",
        "                    'Science': 94\n",
        "                }\n",
        "            },\n",
        "            23: {\n",
        "                'Name': 'Pooja Jain',\n",
        "                'Marks': {\n",
        "                    'Maths': 87,\n",
        "                    'English': 78,\n",
        "                    'Science': 85\n",
        "                }\n",
        "            },\n",
        "            24: {\n",
        "                'Name': 'Rohit Mehta',\n",
        "                'Marks': {\n",
        "                    'Maths': 80,\n",
        "                    'English': 82,\n",
        "                    'Science': 79\n",
        "                }\n",
        "            }\n",
        "        },\n",
        "        'Mechanical Engineering': {\n",
        "            25: {\n",
        "                'Name': 'Tanvi Sharma',\n",
        "                'Marks': {\n",
        "                    'Maths': 85,\n",
        "                    'English': 88,\n",
        "                    'Science': 90\n",
        "                }\n",
        "            },\n",
        "            26: {\n",
        "                'Name': 'Rajat Kapoor',\n",
        "                'Marks': {\n",
        "                    'Maths': 94,\n",
        "                    'English': 91,\n",
        "                    'Science': 85\n",
        "                }\n",
        "            },\n",
        "            27: {\n",
        "                'Name': 'Aanya Verma',\n",
        "                'Marks': {\n",
        "                    'Maths': 78,\n",
        "                    'English': 76,\n",
        "                    'Science': 80\n",
        "                }\n",
        "            }\n",
        "        }\n",
        "    },\n",
        "    2025: {\n",
        "        'Computer Science': {\n",
        "            28: {\n",
        "                'Name': 'Rahul Nair',\n",
        "                'Marks': {\n",
        "                    'Maths': 90,\n",
        "                    'English': 85,\n",
        "                    'Science': 88\n",
        "                }\n",
        "            },\n",
        "            29: {\n",
        "                'Name': 'Juhi Punekar',\n",
        "                'Marks': {\n",
        "                    'Maths': 85,\n",
        "                    'English': 92,\n",
        "                    'Science': 78\n",
        "                }\n",
        "            },\n",
        "            30: {\n",
        "                'Name': 'Vishal Mehta',\n",
        "                'Marks': {\n",
        "                    'Maths': 78,\n",
        "                    'English': 80,\n",
        "                    'Science': 75\n",
        "                }\n",
        "            }\n",
        "        },\n",
        "        'Electrical Engineering': {\n",
        "            31: {\n",
        "                'Name': 'Aditi Desai',\n",
        "                'Marks': {\n",
        "                    'Maths': 92,\n",
        "                    'English': 89,\n",
        "                    'Science': 94\n",
        "                }\n",
        "            },\n",
        "            32: {\n",
        "                'Name': 'Kunal Shah',\n",
        "                'Marks': {\n",
        "                    'Maths': 87,\n",
        "                    'English': 78,\n",
        "                    'Science': 85\n",
        "                }\n",
        "            },\n",
        "            33: {\n",
        "                'Name': 'Isha Joshi',\n",
        "                'Marks': {\n",
        "                    'Maths': 80,\n",
        "                    'English': 82,\n",
        "                    'Science': 79\n",
        "                }\n",
        "            }\n",
        "        },\n",
        "        'Mechanical Engineering': {\n",
        "            34: {\n",
        "                'Name': 'Aarav Vekaria',\n",
        "                'Marks': {\n",
        "                    'Maths': 85,\n",
        "                    'English': 88,\n",
        "                    'Science': 90\n",
        "                }\n",
        "            },\n",
        "            35: {\n",
        "                'Name': 'Mira Jain',\n",
        "                'Marks': {\n",
        "                    'Maths': 94,\n",
        "                    'English': 91,\n",
        "                    'Science': 85\n",
        "                }\n",
        "            },\n",
        "            36: {\n",
        "                'Name': 'Rohan Venkat',\n",
        "                'Marks': {\n",
        "                    'Maths': 78,\n",
        "                    'English': 76,\n",
        "                    'Science': 80\n",
        "                }\n",
        "            }\n",
        "        }\n",
        "    }\n",
        "}\n",
        "\n",
        "pp = pprint.PrettyPrinter(indent=4)\n",
        "pp.pprint(student_records)"
      ],
      "metadata": {
        "colab": {
          "base_uri": "https://localhost:8080/"
        },
        "id": "ozujf3ZIKN_q",
        "outputId": "828e1aa7-52e5-448c-cb4e-5684450c8ce9"
      },
      "execution_count": null,
      "outputs": [
        {
          "output_type": "stream",
          "name": "stdout",
          "text": [
            "{   2022: {   'Computer Science': {   1: {   'Marks': {   'English': 85,\n",
            "                                                          'Maths': 90,\n",
            "                                                          'Science': 78},\n",
            "                                             'Name': 'Sujal Patel'},\n",
            "                                      2: {   'Marks': {   'English': 92,\n",
            "                                                          'Maths': 85,\n",
            "                                                          'Science': 88},\n",
            "                                             'Name': 'Pratham Sharda'},\n",
            "                                      3: {   'Marks': {   'English': 80,\n",
            "                                                          'Maths': 78,\n",
            "                                                          'Science': 75},\n",
            "                                             'Name': 'Hardik Pandya'}},\n",
            "              'Electrical Engineering': {   4: {   'Marks': {   'English': 89,\n",
            "                                                                'Maths': 92,\n",
            "                                                                'Science': 94},\n",
            "                                                   'Name': 'Siddharth Doshi'},\n",
            "                                            5: {   'Marks': {   'English': 78,\n",
            "                                                                'Maths': 87,\n",
            "                                                                'Science': 85},\n",
            "                                                   'Name': 'Mumuksh Jain'},\n",
            "                                            6: {   'Marks': {   'English': 82,\n",
            "                                                                'Maths': 80,\n",
            "                                                                'Science': 79},\n",
            "                                                   'Name': 'Shreyans Jain'}},\n",
            "              'Mechanical Engineering': {   7: {   'Marks': {   'English': 88,\n",
            "                                                                'Maths': 85,\n",
            "                                                                'Science': 90},\n",
            "                                                   'Name': 'Viraj Vekaria'},\n",
            "                                            8: {   'Marks': {   'English': 91,\n",
            "                                                                'Maths': 94,\n",
            "                                                                'Science': 85},\n",
            "                                                   'Name': 'Hardik Jain'},\n",
            "                                            9: {   'Marks': {   'English': 76,\n",
            "                                                                'Maths': 78,\n",
            "                                                                'Science': 80},\n",
            "                                                   'Name': 'Abhijit Venkat'}}},\n",
            "    2023: {   'Computer Science': {   10: {   'Marks': {   'English': 85,\n",
            "                                                           'Maths': 90,\n",
            "                                                           'Science': 88},\n",
            "                                              'Name': 'Harsh Nair'},\n",
            "                                      11: {   'Marks': {   'English': 92,\n",
            "                                                           'Maths': 85,\n",
            "                                                           'Science': 78},\n",
            "                                              'Name': 'Manas Punekar'},\n",
            "                                      12: {   'Marks': {   'English': 80,\n",
            "                                                           'Maths': 78,\n",
            "                                                           'Science': 75},\n",
            "                                              'Name': 'Dimple Mehta'}},\n",
            "              'Electrical Engineering': {   13: {   'Marks': {   'English': 89,\n",
            "                                                                 'Maths': 92,\n",
            "                                                                 'Science': 94},\n",
            "                                                    'Name': 'Diya Desai'},\n",
            "                                            14: {   'Marks': {   'English': 78,\n",
            "                                                                 'Maths': 87,\n",
            "                                                                 'Science': 85},\n",
            "                                                    'Name': 'Nishi Shah'},\n",
            "                                            15: {   'Marks': {   'English': 82,\n",
            "                                                                 'Maths': 80,\n",
            "                                                                 'Science': 79},\n",
            "                                                    'Name': 'Dhairya Joshi'}},\n",
            "              'Mechanical Engineering': {   16: {   'Marks': {   'English': 88,\n",
            "                                                                 'Maths': 85,\n",
            "                                                                 'Science': 90},\n",
            "                                                    'Name': 'Rohan Kapoor'},\n",
            "                                            17: {   'Marks': {   'English': 91,\n",
            "                                                                 'Maths': 94,\n",
            "                                                                 'Science': 85},\n",
            "                                                    'Name': 'Jiya Verma'},\n",
            "                                            18: {   'Marks': {   'English': 76,\n",
            "                                                                 'Maths': 78,\n",
            "                                                                 'Science': 80},\n",
            "                                                    'Name': 'Vikas Sharma'}}},\n",
            "    2024: {   'Computer Science': {   19: {   'Marks': {   'English': 85,\n",
            "                                                           'Maths': 90,\n",
            "                                                           'Science': 88},\n",
            "                                              'Name': 'Neha Patel'},\n",
            "                                      20: {   'Marks': {   'English': 92,\n",
            "                                                           'Maths': 85,\n",
            "                                                           'Science': 78},\n",
            "                                              'Name': 'Rahul Sharma'},\n",
            "                                      21: {   'Marks': {   'English': 80,\n",
            "                                                           'Maths': 78,\n",
            "                                                           'Science': 75},\n",
            "                                              'Name': 'Aishwarya Desai'}},\n",
            "              'Electrical Engineering': {   22: {   'Marks': {   'English': 89,\n",
            "                                                                 'Maths': 92,\n",
            "                                                                 'Science': 94},\n",
            "                                                    'Name': 'Arjun Shah'},\n",
            "                                            23: {   'Marks': {   'English': 78,\n",
            "                                                                 'Maths': 87,\n",
            "                                                                 'Science': 85},\n",
            "                                                    'Name': 'Pooja Jain'},\n",
            "                                            24: {   'Marks': {   'English': 82,\n",
            "                                                                 'Maths': 80,\n",
            "                                                                 'Science': 79},\n",
            "                                                    'Name': 'Rohit Mehta'}},\n",
            "              'Mechanical Engineering': {   25: {   'Marks': {   'English': 88,\n",
            "                                                                 'Maths': 85,\n",
            "                                                                 'Science': 90},\n",
            "                                                    'Name': 'Tanvi Sharma'},\n",
            "                                            26: {   'Marks': {   'English': 91,\n",
            "                                                                 'Maths': 94,\n",
            "                                                                 'Science': 85},\n",
            "                                                    'Name': 'Rajat Kapoor'},\n",
            "                                            27: {   'Marks': {   'English': 76,\n",
            "                                                                 'Maths': 78,\n",
            "                                                                 'Science': 80},\n",
            "                                                    'Name': 'Aanya Verma'}}},\n",
            "    2025: {   'Computer Science': {   28: {   'Marks': {   'English': 85,\n",
            "                                                           'Maths': 90,\n",
            "                                                           'Science': 88},\n",
            "                                              'Name': 'Rahul Nair'},\n",
            "                                      29: {   'Marks': {   'English': 92,\n",
            "                                                           'Maths': 85,\n",
            "                                                           'Science': 78},\n",
            "                                              'Name': 'Juhi Punekar'},\n",
            "                                      30: {   'Marks': {   'English': 80,\n",
            "                                                           'Maths': 78,\n",
            "                                                           'Science': 75},\n",
            "                                              'Name': 'Vishal Mehta'}},\n",
            "              'Electrical Engineering': {   31: {   'Marks': {   'English': 89,\n",
            "                                                                 'Maths': 92,\n",
            "                                                                 'Science': 94},\n",
            "                                                    'Name': 'Aditi Desai'},\n",
            "                                            32: {   'Marks': {   'English': 78,\n",
            "                                                                 'Maths': 87,\n",
            "                                                                 'Science': 85},\n",
            "                                                    'Name': 'Kunal Shah'},\n",
            "                                            33: {   'Marks': {   'English': 82,\n",
            "                                                                 'Maths': 80,\n",
            "                                                                 'Science': 79},\n",
            "                                                    'Name': 'Isha Joshi'}},\n",
            "              'Mechanical Engineering': {   34: {   'Marks': {   'English': 88,\n",
            "                                                                 'Maths': 85,\n",
            "                                                                 'Science': 90},\n",
            "                                                    'Name': 'Aarav Vekaria'},\n",
            "                                            35: {   'Marks': {   'English': 91,\n",
            "                                                                 'Maths': 94,\n",
            "                                                                 'Science': 85},\n",
            "                                                    'Name': 'Mira Jain'},\n",
            "                                            36: {   'Marks': {   'English': 76,\n",
            "                                                                 'Maths': 78,\n",
            "                                                                 'Science': 80},\n",
            "                                                    'Name': 'Rohan Venkat'}}}}\n"
          ]
        }
      ]
    },
    {
      "cell_type": "markdown",
      "source": [
        "## Problem 8\n"
      ],
      "metadata": {
        "id": "Pyx2oz9lKDRh"
      }
    },
    {
      "cell_type": "code",
      "source": [
        "class Student:\n",
        "    def __init__(self, roll_number, name, marks):\n",
        "        self.roll_number = roll_number\n",
        "        self.name = name\n",
        "        self.marks = marks\n",
        "\n",
        "class Branch:\n",
        "    def __init__(self, name, students):\n",
        "        self.name = name\n",
        "        self.students = students\n",
        "\n",
        "class Year:\n",
        "    def __init__(self, year, branches):\n",
        "        self.year = year\n",
        "        self.branches = branches\n",
        "\n",
        "students_2022_cs = [\n",
        "    Student(1, 'Sujal Patel', {'Maths': 90, 'English': 85, 'Science': 78}),\n",
        "    Student(2, 'Pratham Sharda', {'Maths': 85, 'English': 92, 'Science': 88}),\n",
        "    Student(3, 'Hardik Pandya', {'Maths': 78, 'English': 80, 'Science': 75})\n",
        "]\n",
        "\n",
        "students_2022_ee = [\n",
        "    Student(4, 'Siddharth Doshi', {'Maths': 92, 'English': 89, 'Science': 94}),\n",
        "    Student(5, 'Mumuksh Jain', {'Maths': 87, 'English': 78, 'Science': 85}),\n",
        "    Student(6, 'Shreyans Jain', {'Maths': 80, 'English': 82, 'Science': 79})\n",
        "]\n",
        "\n",
        "students_2022_me = [\n",
        "    Student(7, 'Viraj Vekaria', {'Maths': 85, 'English': 88, 'Science': 90}),\n",
        "    Student(8, 'Hardik Jain', {'Maths': 94, 'English': 91, 'Science': 85}),\n",
        "    Student(9, 'Abhijit Venkat', {'Maths': 78, 'English': 76, 'Science': 80})\n",
        "]\n",
        "\n",
        "branch_cs_2022 = Branch('Computer Science', students_2022_cs)\n",
        "branch_ee_2022 = Branch('Electrical Engineering', students_2022_ee)\n",
        "branch_me_2022 = Branch('Mechanical Engineering', students_2022_me)\n",
        "\n",
        "year_2022 = Year(2022, [branch_cs_2022, branch_ee_2022, branch_me_2022])\n",
        "database = [year_2022]\n",
        "\n",
        "students_2023_cs = [\n",
        "    Student(10, 'Harsh Nair', {'Maths': 90, 'English': 85, 'Science': 88}),\n",
        "    Student(11, 'Manas Punekar', {'Maths': 85, 'English': 92, 'Science': 78}),\n",
        "    Student(12, 'Dimple Mehta', {'Maths': 78, 'English': 80, 'Science': 75})\n",
        "]\n",
        "\n",
        "students_2023_ee = [\n",
        "    Student(13, 'Diya Desai', {'Maths': 92, 'English': 89, 'Science': 94}),\n",
        "    Student(14, 'Nishi Shah', {'Maths': 87, 'English': 78, 'Science': 85}),\n",
        "    Student(15, 'Dhairya Joshi', {'Maths': 80, 'English': 82, 'Science': 79})\n",
        "]\n",
        "\n",
        "students_2023_me = [\n",
        "    Student(16, 'Rohan Kapoor', {'Maths': 85, 'English': 88, 'Science': 90}),\n",
        "    Student(17, 'Jiya Verma', {'Maths': 94, 'English': 91, 'Science': 85}),\n",
        "    Student(18, 'Vikas Sharma', {'Maths': 78, 'English': 76, 'Science': 80})\n",
        "]\n",
        "\n",
        "branch_cs_2023 = Branch('Computer Science', students_2023_cs)\n",
        "branch_ee_2023 = Branch('Electrical Engineering', students_2023_ee)\n",
        "branch_me_2023 = Branch('Mechanical Engineering', students_2023_me)\n",
        "\n",
        "year_2023 = Year(2023, [branch_cs_2023, branch_ee_2023, branch_me_2023])\n",
        "\n",
        "students_2024_cs = [\n",
        "    Student(19, 'Neha Patel', {'Maths': 90, 'English': 85, 'Science': 88}),\n",
        "    Student(20, 'Rahul Sharma', {'Maths': 85, 'English': 92, 'Science': 78}),\n",
        "    Student(21, 'Aishwarya Desai', {'Maths': 78, 'English': 80, 'Science': 75})\n",
        "]\n",
        "\n",
        "students_2024_ee = [\n",
        "    Student(22, 'Arjun Shah', {'Maths': 92, 'English': 89, 'Science': 94}),\n",
        "    Student(23, 'Pooja Jain', {'Maths': 87, 'English': 78, 'Science': 85}),\n",
        "    Student(24, 'Rohit Mehta', {'Maths': 80, 'English': 82, 'Science': 79})\n",
        "]\n",
        "\n",
        "students_2024_me = [\n",
        "    Student(25, 'Tanvi Sharma', {'Maths': 85, 'English': 88, 'Science': 90}),\n",
        "    Student(26, 'Rajat Kapoor', {'Maths': 94, 'English': 91, 'Science': 85}),\n",
        "    Student(27, 'Aanya Verma', {'Maths': 78, 'English': 76, 'Science': 80})\n",
        "]\n",
        "\n",
        "branch_cs_2024 = Branch('Computer Science', students_2024_cs)\n",
        "branch_ee_2024 = Branch('Electrical Engineering', students_2024_ee)\n",
        "branch_me_2024 = Branch('Mechanical Engineering', students_2024_me)\n",
        "\n",
        "year_2024 = Year(2024, [branch_cs_2024, branch_ee_2024, branch_me_2024])\n",
        "\n",
        "students_2025_cs = [\n",
        "    Student(28, 'Rahul Nair', {'Maths': 90, 'English': 85, 'Science': 88}),\n",
        "    Student(29, 'Juhi Punekar', {'Maths': 85, 'English': 92, 'Science': 78}),\n",
        "    Student(30, 'Vishal Mehta', {'Maths': 78, 'English': 80, 'Science': 75})\n",
        "]\n",
        "\n",
        "students_2025_ee = [\n",
        "    Student(31, 'Aditi Desai', {'Maths': 92, 'English': 89, 'Science': 94}),\n",
        "    Student(32, 'Kunal Shah', {'Maths': 87, 'English': 78, 'Science': 85}),\n",
        "    Student(33, 'Isha Joshi', {'Maths': 80, 'English': 82, 'Science': 79})\n",
        "]\n",
        "\n",
        "students_2025_me = [\n",
        "    Student(34, 'Aarav Vekaria', {'Maths': 85, 'English': 88, 'Science': 90}),\n",
        "    Student(35, 'Mira Jain', {'Maths': 94, 'English': 91, 'Science': 85}),\n",
        "    Student(36, 'Rohan Venkat', {'Maths': 78, 'English': 76, 'Science': 80})\n",
        "]\n",
        "\n",
        "branch_cs_2025 = Branch('Computer Science', students_2025_cs)\n",
        "branch_ee_2025 = Branch('Electrical Engineering', students_2025_ee)\n",
        "branch_me_2025 = Branch('Mechanical Engineering', students_2025_me)\n",
        "\n",
        "year_2025 = Year(2025, [branch_cs_2025, branch_ee_2025, branch_me_2025])\n",
        "\n",
        "database.extend([year_2023, year_2024, year_2025])\n"
      ],
      "metadata": {
        "id": "aKQ6ypdLKOf4"
      },
      "execution_count": null,
      "outputs": []
    },
    {
      "cell_type": "markdown",
      "source": [
        "## Problem 9"
      ],
      "metadata": {
        "id": "WcQ1lWoSKEmb"
      }
    },
    {
      "cell_type": "code",
      "source": [
        "def plotter(func):\n",
        "  x = np.arange(0.5, 100, 0.5)\n",
        "  y = func(x)\n",
        "  plt.plot(x, y)\n",
        "  plt.show()"
      ],
      "metadata": {
        "id": "o18-XXXmKO3w"
      },
      "execution_count": null,
      "outputs": []
    },
    {
      "cell_type": "markdown",
      "source": [
        "Plot for $y=x$"
      ],
      "metadata": {
        "id": "TzIZ52IaLosX"
      }
    },
    {
      "cell_type": "code",
      "source": [
        "func_1 = lambda x: x\n",
        "plotter(func_1)"
      ],
      "metadata": {
        "colab": {
          "base_uri": "https://localhost:8080/",
          "height": 430
        },
        "id": "I9qoi6hzLPAR",
        "outputId": "e9ef6a82-5f0c-433c-a51e-eae57d533c15"
      },
      "execution_count": null,
      "outputs": [
        {
          "output_type": "display_data",
          "data": {
            "text/plain": [
              "<Figure size 640x480 with 1 Axes>"
            ],
            "image/png": "[encoded data removed]"
          },
          "metadata": {}
        }
      ]
    },
    {
      "cell_type": "markdown",
      "source": [
        "Plot for $x^2$"
      ],
      "metadata": {
        "id": "j1Xz3UTlLuFW"
      }
    },
    {
      "cell_type": "code",
      "source": [
        "func_1 = lambda x: x**2\n",
        "plotter(func_1)"
      ],
      "metadata": {
        "colab": {
          "base_uri": "https://localhost:8080/",
          "height": 430
        },
        "id": "1fm3mtbLLx82",
        "outputId": "9aca2d9a-f239-44af-9d86-2e8747af13b4"
      },
      "execution_count": null,
      "outputs": [
        {
          "output_type": "display_data",
          "data": {
            "text/plain": [
              "<Figure size 640x480 with 1 Axes>"
            ],
            "image/png": "[encoded data removed]"
          },
          "metadata": {}
        }
      ]
    },
    {
      "cell_type": "markdown",
      "source": [
        "Plot for $\\frac{x^3}{100}$"
      ],
      "metadata": {
        "id": "VHSo03h5LyOw"
      }
    },
    {
      "cell_type": "code",
      "source": [
        "func_1 = lambda x: x**3/100\n",
        "plotter(func_1)"
      ],
      "metadata": {
        "colab": {
          "base_uri": "https://localhost:8080/",
          "height": 430
        },
        "id": "AvUPJegrLy0G",
        "outputId": "63f2753e-ce93-40f8-9dbd-4ba24c5dd4e8"
      },
      "execution_count": null,
      "outputs": [
        {
          "output_type": "display_data",
          "data": {
            "text/plain": [
              "<Figure size 640x480 with 1 Axes>"
            ],
            "image/png": "[encoded data removed]"
          },
          "metadata": {}
        }
      ]
    },
    {
      "cell_type": "markdown",
      "source": [
        "Plot for $sin(x)$"
      ],
      "metadata": {
        "id": "vB2o1MDdL-ns"
      }
    },
    {
      "cell_type": "code",
      "source": [
        "func_1 = lambda x: np.sin(x)\n",
        "plotter(func_1)"
      ],
      "metadata": {
        "colab": {
          "base_uri": "https://localhost:8080/",
          "height": 430
        },
        "id": "yx8tkeuTMC0M",
        "outputId": "d7ca5a3a-9cf6-4ba6-c2a4-59b7ae8b89ec"
      },
      "execution_count": null,
      "outputs": [
        {
          "output_type": "display_data",
          "data": {
            "text/plain": [
              "<Figure size 640x480 with 1 Axes>"
            ],
            "image/png": "[encoded data removed]"
          },
          "metadata": {}
        }
      ]
    },
    {
      "cell_type": "markdown",
      "source": [
        "Plot for $\\frac{sin(x)}{x}$"
      ],
      "metadata": {
        "id": "vhIUpWSWMDI7"
      }
    },
    {
      "cell_type": "code",
      "source": [
        "func_1 = lambda x: np.sin(x)/x\n",
        "plotter(func_1)"
      ],
      "metadata": {
        "colab": {
          "base_uri": "https://localhost:8080/",
          "height": 430
        },
        "id": "BKc2C2xHMKzE",
        "outputId": "ce2db5c9-a7ad-4f65-a08c-a6ce17011769"
      },
      "execution_count": null,
      "outputs": [
        {
          "output_type": "display_data",
          "data": {
            "text/plain": [
              "<Figure size 640x480 with 1 Axes>"
            ],
            "image/png": "[encoded data removed]"
          },
          "metadata": {}
        }
      ]
    },
    {
      "cell_type": "markdown",
      "source": [
        "Plot for $log(x)$"
      ],
      "metadata": {
        "id": "KmnuDaFmMLD9"
      }
    },
    {
      "cell_type": "code",
      "source": [
        "func_1 = lambda x: np.log(x)\n",
        "plotter(func_1)"
      ],
      "metadata": {
        "colab": {
          "base_uri": "https://localhost:8080/",
          "height": 430
        },
        "id": "BYvK6hNCMOwu",
        "outputId": "f183032d-e07c-4e27-a1ef-91ca0e454212"
      },
      "execution_count": null,
      "outputs": [
        {
          "output_type": "display_data",
          "data": {
            "text/plain": [
              "<Figure size 640x480 with 1 Axes>"
            ],
            "image/png": "[encoded data removed]"
          },
          "metadata": {}
        }
      ]
    },
    {
      "cell_type": "markdown",
      "source": [
        "Plot for $e^x$"
      ],
      "metadata": {
        "id": "5-inyRgMMPqg"
      }
    },
    {
      "cell_type": "code",
      "source": [
        "func_1 = lambda x: np.exp(x)\n",
        "plotter(func_1)"
      ],
      "metadata": {
        "colab": {
          "base_uri": "https://localhost:8080/",
          "height": 445
        },
        "id": "rnIRFFSGMT1i",
        "outputId": "828b6fc6-8f2d-4521-b693-a1ede63a9979"
      },
      "execution_count": null,
      "outputs": [
        {
          "output_type": "display_data",
          "data": {
            "text/plain": [
              "<Figure size 640x480 with 1 Axes>"
            ],
            "image/png": "[encoded data removed]"
          },
          "metadata": {}
        }
      ]
    },
    {
      "cell_type": "markdown",
      "source": [
        "## Problem 10"
      ],
      "metadata": {
        "id": "35okTj0AKGP4"
      }
    },
    {
      "cell_type": "code",
      "source": [
        "np.random.seed(42)\n",
        "matrix = np.random.rand(20, 5)+1\n",
        "df = pd.DataFrame(matrix, columns = [\"a\", \"b\", \"c\", \"d\", \"e\"])\n",
        "\n",
        "print(f\"The column with the highest standard deviation is column {df.std().idxmax()}\")\n",
        "print(f\"The row with the lowest mean is row {df.mean(axis = 1).idxmin()}\")"
      ],
      "metadata": {
        "colab": {
          "base_uri": "https://localhost:8080/"
        },
        "id": "byBQlYAiKPdo",
        "outputId": "88994ead-5bc7-4da3-f10b-de03f880b52b"
      },
      "execution_count": null,
      "outputs": [
        {
          "output_type": "stream",
          "name": "stdout",
          "text": [
            "The column with the highest standard deviation is column c\n",
            "The row with the lowest mean is row 11\n"
          ]
        }
      ]
    },
    {
      "cell_type": "markdown",
      "source": [
        "## Problem 11"
      ],
      "metadata": {
        "id": "ODgQYt2QKH1I"
      }
    },
    {
      "cell_type": "code",
      "source": [
        "df['f'] = df.sum(axis=1)\n",
        "df['g'] = np.where(df['f'] < 8, 'LT8', 'GT8')\n",
        "num_lt8_rows = (df['g'] == 'LT8').sum()\n",
        "std_lt8 = df.loc[df['g'] == 'LT8', 'f'].std()\n",
        "std_gt8 = df.loc[df['g'] == 'GT8', 'f'].std()\n",
        "\n",
        "print(f\"Number of rows where 'g' is 'LT8': {num_lt8_rows}\")\n",
        "print(f\"Standard deviation of 'f' for 'LT8' rows: {std_lt8}\")\n",
        "print(f\"Standard deviation of 'f' for 'GT8' rows: {std_gt8}\")"
      ],
      "metadata": {
        "colab": {
          "base_uri": "https://localhost:8080/"
        },
        "id": "R7AoZngvKPxx",
        "outputId": "870622ba-ae43-4457-e272-fc2186ba9c73"
      },
      "execution_count": null,
      "outputs": [
        {
          "output_type": "stream",
          "name": "stdout",
          "text": [
            "Number of rows where 'g' is 'LT8': 18\n",
            "Standard deviation of 'f' for 'LT8' rows: 0.4025886500663061\n",
            "Standard deviation of 'f' for 'GT8' rows: 0.7956146881961926\n"
          ]
        }
      ]
    },
    {
      "cell_type": "markdown",
      "source": [
        "## Problem 12"
      ],
      "metadata": {
        "id": "LIBL9wj4KI0Y"
      }
    },
    {
      "cell_type": "code",
      "source": [
        "a = np.random.rand(5, 5)\n",
        "b = np.ones(shape = (5,))\n",
        "\n",
        "print(f\"Higher dimensional array:\\n {a}\\n\")\n",
        "print(f\"Lower dimensional array:\\n {b}\\n\")\n",
        "\n",
        "print(f\"Theoretically it should not be possible to add two matrices of different\\nshapes, but if we do a+b, it would result in:\\n {a+b}\")"
      ],
      "metadata": {
        "colab": {
          "base_uri": "https://localhost:8080/"
        },
        "id": "A6O712gDKQLR",
        "outputId": "2e2fd712-d415-4098-b337-946ad5cbb81e"
      },
      "execution_count": null,
      "outputs": [
        {
          "output_type": "stream",
          "name": "stdout",
          "text": [
            "Higher dimensional array:\n",
            " [[0.03142919 0.63641041 0.31435598 0.50857069 0.90756647]\n",
            " [0.24929223 0.41038292 0.75555114 0.22879817 0.07697991]\n",
            " [0.28975145 0.16122129 0.92969765 0.80812038 0.63340376]\n",
            " [0.87146059 0.80367208 0.18657006 0.892559   0.53934224]\n",
            " [0.80744016 0.8960913  0.31800347 0.11005192 0.22793516]]\n",
            "\n",
            "Lower dimensional array:\n",
            " [1. 1. 1. 1. 1.]\n",
            "\n",
            "Theoretically it should not be possible to add two matrices of different\n",
            "shapes, but if we do a+b, it would result in:\n",
            " [[1.03142919 1.63641041 1.31435598 1.50857069 1.90756647]\n",
            " [1.24929223 1.41038292 1.75555114 1.22879817 1.07697991]\n",
            " [1.28975145 1.16122129 1.92969765 1.80812038 1.63340376]\n",
            " [1.87146059 1.80367208 1.18657006 1.892559   1.53934224]\n",
            " [1.80744016 1.8960913  1.31800347 1.11005192 1.22793516]]\n"
          ]
        }
      ]
    },
    {
      "cell_type": "markdown",
      "source": [
        "## Problem 13"
      ],
      "metadata": {
        "id": "uWSar5mkKJ_w"
      }
    },
    {
      "cell_type": "code",
      "source": [
        "def argmin_manual(x):\n",
        "  min = np.inf\n",
        "  min_index = np.inf\n",
        "  for i, j in enumerate(x):\n",
        "    if(min > j):\n",
        "      min = j\n",
        "      min_index = i\n",
        "\n",
        "  return min_index\n",
        "\n",
        "np.random.seed(42)\n",
        "a = np.random.randint(0, 10, size = 5)\n",
        "print(f\"Array: {a}\")\n",
        "print(f\"Manual result: {argmin_manual(a)}\")\n",
        "print(f\"Numpy result: {np.argmin(a)}\")"
      ],
      "metadata": {
        "colab": {
          "base_uri": "https://localhost:8080/"
        },
        "id": "ozXgVddpKQg5",
        "outputId": "8e64bbc0-785e-4a66-988e-92679f79e9da"
      },
      "execution_count": null,
      "outputs": [
        {
          "output_type": "stream",
          "name": "stdout",
          "text": [
            "Array: [6 3 7 4 6]\n",
            "Manual result: 1\n",
            "Numpy result: 1\n"
          ]
        }
      ]
    }
  ]
}